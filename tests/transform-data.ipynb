{
 "cells": [
  {
   "metadata": {
    "ExecuteTime": {
     "end_time": "2024-11-21T02:28:27.209658Z",
     "start_time": "2024-11-21T02:28:27.120428Z"
    }
   },
   "cell_type": "code",
   "source": [
    "import os\n",
    "import sys\n",
    "\n",
    "import pyspark.sql.functions as F\n",
    "from pyspark.sql import SparkSession\n",
    "from pyspark.sql.types import StructType, StructField, IntegerType, StringType\n",
    "\n",
    "# Required for Spark to find Python executable\n",
    "os.environ['PYSPARK_PYTHON'] = sys.executable\n",
    "os.environ['PYSPARK_DRIVER_PYTHON'] = sys.executable"
   ],
   "id": "49ed76773c9f9407",
   "outputs": [],
   "execution_count": 1
  },
  {
   "cell_type": "code",
   "id": "initial_id",
   "metadata": {
    "collapsed": true,
    "ExecuteTime": {
     "end_time": "2024-11-21T02:29:03.055926Z",
     "start_time": "2024-11-21T02:28:59.979185Z"
    }
   },
   "source": [
    "spark = SparkSession.builder.appName(\"jira_extract_issues\").getOrCreate()\n",
    "\n",
    "spark.version"
   ],
   "outputs": [
    {
     "data": {
      "text/plain": [
       "'3.5.3'"
      ]
     },
     "execution_count": 2,
     "metadata": {},
     "output_type": "execute_result"
    }
   ],
   "execution_count": 2
  },
  {
   "metadata": {
    "ExecuteTime": {
     "end_time": "2024-11-21T02:29:04.617605Z",
     "start_time": "2024-11-21T02:29:04.614441Z"
    }
   },
   "cell_type": "code",
   "source": "DATA_OUTPUT_DIR = \"../data\"",
   "id": "2ed5f9a2496cd602",
   "outputs": [],
   "execution_count": 3
  },
  {
   "metadata": {
    "ExecuteTime": {
     "end_time": "2024-11-21T02:29:13.540856Z",
     "start_time": "2024-11-21T02:29:13.537286Z"
    }
   },
   "cell_type": "code",
   "source": [
    "estabelecimentos_folder = f\"{DATA_OUTPUT_DIR}/Estabelecimentos/\"\n",
    "files = os.listdir(estabelecimentos_folder)\n",
    "\n",
    "files_to_transform = [f\"{estabelecimentos_folder}{f}\" for f in files] # if not f.endswith(\".csv\")]\n",
    "\n",
    "files_to_transform"
   ],
   "id": "ac3cee985800cadc",
   "outputs": [
    {
     "data": {
      "text/plain": [
       "['../data/Estabelecimentos/K3241.K03200Y0.D41109.ESTABELE',\n",
       " '../data/Estabelecimentos/K3241.K03200Y1.D41109.ESTABELE',\n",
       " '../data/Estabelecimentos/K3241.K03200Y2.D41109.ESTABELE',\n",
       " '../data/Estabelecimentos/K3241.K03200Y3.D41109.ESTABELE',\n",
       " '../data/Estabelecimentos/K3241.K03200Y4.D41109.ESTABELE',\n",
       " '../data/Estabelecimentos/K3241.K03200Y5.D41109.ESTABELE',\n",
       " '../data/Estabelecimentos/K3241.K03200Y6.D41109.ESTABELE',\n",
       " '../data/Estabelecimentos/K3241.K03200Y7.D41109.ESTABELE',\n",
       " '../data/Estabelecimentos/K3241.K03200Y8.D41109.ESTABELE',\n",
       " '../data/Estabelecimentos/K3241.K03200Y9.D41109.ESTABELE']"
      ]
     },
     "execution_count": 5,
     "metadata": {},
     "output_type": "execute_result"
    }
   ],
   "execution_count": 5
  },
  {
   "metadata": {
    "ExecuteTime": {
     "end_time": "2024-11-21T02:29:19.225781Z",
     "start_time": "2024-11-21T02:29:19.221762Z"
    }
   },
   "cell_type": "code",
   "source": [
    "csv_estabelecimentos_schema = StructType([\n",
    "    StructField(\"cnpj_basico\", StringType(), nullable=True),\n",
    "    StructField(\"cnpj_ordem\", StringType(), nullable=True),\n",
    "    StructField(\"cnpj_dv\", StringType(), nullable=True),\n",
    "    StructField(\"cd_matriz_filial\", IntegerType(), nullable=True),\n",
    "    StructField(\"nome_fantasia\", StringType(), nullable=True),\n",
    "    StructField(\"cd_situacao_cadastral\", StringType(), nullable=True),\n",
    "    StructField(\"data_situacao_cadastral\", StringType(), nullable=True),\n",
    "    StructField(\"cd_motivo_situacao_cadastral\", StringType(), nullable=True),\n",
    "    StructField(\"nome_cidade_exterior\", StringType(), nullable=True),\n",
    "    StructField(\"pais\", StringType(), nullable=True),\n",
    "    StructField(\"data_inicio_atividades\", StringType(), nullable=True),\n",
    "    StructField(\"cd_cnae_fiscal\", StringType(), nullable=True),\n",
    "    StructField(\"cd_cnae_fiscal_secundario\", StringType(), nullable=True),\n",
    "    StructField(\"tipo_logradouro\", StringType(), nullable=True),\n",
    "    StructField(\"logradouro\", StringType(), nullable=True),\n",
    "    StructField(\"numero\", IntegerType(), nullable=True),\n",
    "    StructField(\"complemento\", StringType(), nullable=True),\n",
    "    StructField(\"bairro\", StringType(), nullable=True),\n",
    "    StructField(\"cep\", StringType(), nullable=True),\n",
    "    StructField(\"uf\", StringType(), nullable=True),\n",
    "    StructField(\"municipio\", StringType(), nullable=True),\n",
    "    StructField(\"ddd1\", StringType(), nullable=True),\n",
    "    StructField(\"telefone1\", StringType(), nullable=True),\n",
    "    StructField(\"ddd2\", StringType(), nullable=True),\n",
    "    StructField(\"telefone2\", StringType(), nullable=True),\n",
    "    StructField(\"ddd_fax\", StringType(), nullable=True),\n",
    "    StructField(\"fax\", StringType(), nullable=True),\n",
    "    StructField(\"correio_eletronico\", StringType(), nullable=True),\n",
    "    StructField(\"cd_situacao_especial\", StringType(), nullable=True),\n",
    "    StructField(\"data_situacao_especial\", StringType(), nullable=True),\n",
    "])"
   ],
   "id": "443cde9d9ee95dcd",
   "outputs": [],
   "execution_count": 6
  },
  {
   "metadata": {
    "ExecuteTime": {
     "end_time": "2024-11-21T02:29:24.969269Z",
     "start_time": "2024-11-21T02:29:23.679449Z"
    }
   },
   "cell_type": "code",
   "source": "df_estabelecimentos = spark.read.csv(files_to_transform, header=False, sep=\";\", schema=csv_estabelecimentos_schema)",
   "id": "954c0d38a1c2ee9c",
   "outputs": [],
   "execution_count": 7
  },
  {
   "metadata": {
    "ExecuteTime": {
     "end_time": "2024-11-21T02:29:44.100502Z",
     "start_time": "2024-11-21T02:29:39.794612Z"
    }
   },
   "cell_type": "code",
   "source": "df_estabelecimentos.count()",
   "id": "bee64e4934a31e9d",
   "outputs": [
    {
     "data": {
      "text/plain": [
       "63333645"
      ]
     },
     "execution_count": 8,
     "metadata": {},
     "output_type": "execute_result"
    }
   ],
   "execution_count": 8
  },
  {
   "metadata": {
    "ExecuteTime": {
     "end_time": "2024-11-20T21:05:09.520442Z",
     "start_time": "2024-11-20T21:05:09.517484Z"
    }
   },
   "cell_type": "code",
   "source": "df_estabelecimentos.printSchema()",
   "id": "c71b64afaaf545",
   "outputs": [
    {
     "name": "stdout",
     "output_type": "stream",
     "text": [
      "root\n",
      " |-- cnpj_basico: string (nullable = true)\n",
      " |-- cnpj_ordem: string (nullable = true)\n",
      " |-- cnpj_dv: string (nullable = true)\n",
      " |-- cd_matriz_filial: integer (nullable = true)\n",
      " |-- nome_fantasia: string (nullable = true)\n",
      " |-- cd_situacao_cadastral: string (nullable = true)\n",
      " |-- data_situacao_cadastral: string (nullable = true)\n",
      " |-- cd_motivo_situacao_cadastral: string (nullable = true)\n",
      " |-- nome_cidade_exterior: string (nullable = true)\n",
      " |-- pais: string (nullable = true)\n",
      " |-- data_inicio_atividades: string (nullable = true)\n",
      " |-- cd_cnae_fiscal: string (nullable = true)\n",
      " |-- cd_cnae_fiscal_secundario: string (nullable = true)\n",
      " |-- tipo_logradouro: string (nullable = true)\n",
      " |-- logradouro: string (nullable = true)\n",
      " |-- numero: integer (nullable = true)\n",
      " |-- complemento: string (nullable = true)\n",
      " |-- bairro: string (nullable = true)\n",
      " |-- cep: string (nullable = true)\n",
      " |-- uf: string (nullable = true)\n",
      " |-- municipio: string (nullable = true)\n",
      " |-- ddd1: string (nullable = true)\n",
      " |-- telefone1: string (nullable = true)\n",
      " |-- ddd2: string (nullable = true)\n",
      " |-- telefone2: string (nullable = true)\n",
      " |-- ddd_fax: string (nullable = true)\n",
      " |-- fax: string (nullable = true)\n",
      " |-- correio_eletronico: string (nullable = true)\n",
      " |-- cd_situacao_especial: string (nullable = true)\n",
      " |-- data_situacao_especial: string (nullable = true)\n",
      "\n"
     ]
    }
   ],
   "execution_count": 118
  },
  {
   "metadata": {
    "ExecuteTime": {
     "end_time": "2024-11-20T21:05:09.583707Z",
     "start_time": "2024-11-20T21:05:09.549548Z"
    }
   },
   "cell_type": "code",
   "source": "df_estabelecimentos.show()",
   "id": "133c2cb36086936",
   "outputs": [
    {
     "name": "stdout",
     "output_type": "stream",
     "text": [
      "+-----------+----------+-------+----------------+--------------------+---------------------+-----------------------+----------------------------+--------------------+----+----------------------+--------------+-------------------------+---------------+--------------------+------+--------------------+--------------------+--------+---+---------+----+---------+----+---------+-------+----+--------------------+--------------------+----------------------+\n",
      "|cnpj_basico|cnpj_ordem|cnpj_dv|cd_matriz_filial|       nome_fantasia|cd_situacao_cadastral|data_situacao_cadastral|cd_motivo_situacao_cadastral|nome_cidade_exterior|pais|data_inicio_atividades|cd_cnae_fiscal|cd_cnae_fiscal_secundario|tipo_logradouro|          logradouro|numero|         complemento|              bairro|     cep| uf|municipio|ddd1|telefone1|ddd2|telefone2|ddd_fax| fax|  correio_eletronico|cd_situacao_especial|data_situacao_especial|\n",
      "+-----------+----------+-------+----------------+--------------------+---------------------+-----------------------+----------------------------+--------------------+----+----------------------+--------------+-------------------------+---------------+--------------------+------+--------------------+--------------------+--------+---+---------+----+---------+----+---------+-------+----+--------------------+--------------------+----------------------+\n",
      "|   45855495|      0001|     79|               1|                NULL|                   04|               20240814|                          63|                NULL|NULL|              20220331|       4781400|          1531902,3299099|            RUA|      JOAO FLORENCIO|    24|                NULL|    DEZOITO DO FORTE|49072410| SE|     3105|  79| 91520842|NULL|     NULL|   NULL|NULL|NATALYFERREIRASAN...|                NULL|                  NULL|\n",
      "|   45855505|      0001|     76|               1|                NULL|                   04|               20240819|                          63|                NULL|NULL|              20220331|       4723700|                  4772500|            RUA|PROFESSOR JOSE LO...|   310|                NULL|            SAO JOAO|84270130| PR|     7915|  42| 91631508|NULL|     NULL|   NULL|NULL|RICHTERMARIOSERGI...|                NULL|                  NULL|\n",
      "|   45855516|      0001|     56|               1|       AMANDA VIEIRA|                   08|               20220607|                          01|                NULL|NULL|              20220331|       7319002|                  9602502|            RUA|       BENVINDA LEAO|    77|CASA CASA;CASA CA...|              BAIXAO|57305350| AL|     2705|  82| 96459005|NULL|     NULL|   NULL|NULL|AMANDAVIEIRABBG@H...|                NULL|                  NULL|\n",
      "|   45855528|      0001|     80|               1|                NULL|                   02|               20220331|                          00|                NULL|NULL|              20220331|       7500100|     4771704,4781400,4...|            RUA|    ARGENTAL DRUMOND|    12|                NULL|       SANTA CECILIA|30668340| MG|     4123|  31| 23915407|NULL|     NULL|   NULL|NULL|FABRIZIA@EMEDIATO...|                NULL|                  NULL|\n",
      "|   45855539|      0001|     60|               1|                NULL|                   02|               20220331|                          00|                NULL|NULL|              20220331|       4721102|     4712100,1091102,5...|        RODOVIA|   PRESIDENTE VARGAS|  2347|                NULL|         SANTA CLARA|27340002| RJ|     5807|  24| 99843213|NULL|     NULL|   NULL|NULL|PADARIAMARCOLAN@G...|                NULL|                  NULL|\n",
      "|   45855550|      0001|     20|               1|   BLUE LINE SERVICE|                   08|               20220331|                          01|                NULL|NULL|              20220331|       9521500|                     NULL|        AVENIDA|      PAULA FERREIRA|  2958|                NULL|            PIRITUBA|02916000| SP|     7107|  11| 22540198|NULL|     NULL|   NULL|NULL|DOUGLASK936@GMAIL...|                NULL|                  NULL|\n",
      "|   45855560|      0001|     66|               1|                NULL|                   02|               20220331|                          00|                NULL|NULL|              20220331|       4399103|     4321500,4322301,4...|            RUA|JOAO BATISTA PEDROSO|   237|                CASA|             COHAPAR|83280000| PR|     7587|  41| 99173062|NULL|     NULL|   NULL|NULL|ROGERIODEBONA@HOT...|                NULL|                  NULL|\n",
      "|   45855570|      0001|     00|               1|                NULL|                   02|               20220331|                          00|                NULL|NULL|              20220331|       4520007|                  4530703|            RUA|ALEXANDRE BERGAMI...|   200|                NULL|  CORREGO DOS PEIXES|14312208| SP|     6217|  16| 91400585|NULL|     NULL|   NULL|NULL|LARISSA.ADRIELLY1...|                NULL|                  NULL|\n",
      "|   43909127|      0001|     30|               1|                NULL|                   08|               20220713|                          01|                NULL|NULL|              20211018|       8599605|                  8219999|            RUA|JOSE ANTONIO DO P...|   417|                CASA|        JARDIM ZELIA|08575270| SP|     6563|  11| 46422995|NULL|     NULL|   NULL|NULL|THAMIRES_BARBOSA1...|                NULL|                  NULL|\n",
      "|   45855595|      0001|     03|               1|                NULL|                   02|               20220331|                          00|                NULL|NULL|              20220331|       9511800|                  8219999|            RUA|      ZILDA DE ABREU|   510|                CASA|        SANTA ISABEL|94500020| RS|     8963|  51| 34938985|NULL|     NULL|   NULL|NULL|  VINIBR45@GMAIL.COM|                NULL|                  NULL|\n",
      "|   45855604|      0001|     58|               1|                NULL|                   02|               20220331|                          00|                NULL|NULL|              20220331|       4330404|     4322301,4399199,4...|            RUA|         CURITIBANOS|   510|                NULL|          MUNICIPIOS|88337375| SC|     8039|  12| 97682348|NULL|     NULL|   NULL|NULL|VANDOGERALDOPEREI...|                NULL|                  NULL|\n",
      "|   45855615|      0001|     38|               1|                NULL|                   08|               20240110|                          01|                NULL|NULL|              20220331|       9512600|                  4757100|            RUA|PROFESSOR LAZARO ...|  NULL|                NULL|     VILA NOVA CANAA|74415420| GO|     9373|  62| 95260527|NULL|     NULL|   NULL|NULL|SABRINA_CATZINHA@...|                NULL|                  NULL|\n",
      "|   45855628|      0001|     07|               1|                NULL|                   08|               20240909|                          01|                NULL|NULL|              20220331|       4781400|                  7319002|            RUA|              PASSOS|    27|                NULL|       CARLOS PRATES|30710540| MG|     4123|  31| 96001737|NULL|     NULL|   NULL|NULL|MARIMAIA23@GMAIL.COM|                NULL|                  NULL|\n",
      "|   45855639|      0001|     97|               1|                NULL|                   04|               20240816|                          63|                NULL|NULL|              20220331|       5620104|     5620101,5611201,5...|            RUA|       LORENZO PENNA|   195|              CASA B|       JARDIM HELENA|08371160| SP|     7107|  11| 89187372|NULL|     NULL|   NULL|NULL|PATRICIATINONASCI...|                NULL|                  NULL|\n",
      "|   45855649|      0001|     22|               1|SIDNEY BARBOSA DE...|                   08|               20220802|                          01|                NULL|NULL|              20220331|       5320202|                     NULL|            RUA|        CASTRO ALVES|   323|                CASA|            PLANALTO|39404027| MG|     4865|  38| 84046082|NULL|     NULL|   NULL|NULL|MARKETINGNOELGAS@...|                NULL|                  NULL|\n",
      "|   45855661|      0001|     37|               1|                NULL|                   08|               20230912|                          01|                NULL|NULL|              20220331|       4755503|          4781400,7319002|            RUA|        MINAS GERAIS|  1860|                NULL|   JARDIM BELA VISTA|14750000| SP|     6891|  16| 88111216|NULL|     NULL|   NULL|NULL|JARDIMMIRANDAGILV...|                NULL|                  NULL|\n",
      "|   45855672|      0001|     17|               1|                NULL|                   02|               20220331|                          00|                NULL|NULL|              20220331|       1629301|     1623400,3240099,4...|        10A RUA|        JOSE BALCINI|   358|CASA ROSA;FUNDOS ...|            RAICHASK|88820000| SC|     8137|  48| 98834307|NULL|     NULL|   NULL|NULL|ALBERTINO@GOLDPAC...|                NULL|                  NULL|\n",
      "|   45855684|      0001|     41|               1|                NULL|                   02|               20220331|                          00|                NULL|NULL|              20220331|       8219999|                     NULL|            RUA|    TERCILIO TEDESCO|   885|                NULL|          FORQUILHAS|88107481| SC|     8327|  48| 99085321|NULL|     NULL|   NULL|NULL|DEBORABENNECH@GMA...|                NULL|                  NULL|\n",
      "|   45855694|      0001|     87|               1|NINI COSMETICOS E...|                   08|               20220404|                          01|                NULL|NULL|              20220331|       4781400|                  4755503|        10A RUA|             GUAPORE|  2090|                NULL|SAO MIGUEL DO GUA...|76932000| RO|     0045|  69| 84313304|NULL|     NULL|   NULL|NULL|ROSAGRAZIELE.ADV@...|                NULL|                  NULL|\n",
      "|   45855706|      0001|     73|               1|                NULL|                   04|               20240819|                          63|                NULL|NULL|              20220331|       4785799|                  4530704|            RUA|DR FRANCISCO BELTRAO|   748|                NULL|              CENTRO|85530000| PR|     7509|  46| 99255212|NULL|     NULL|   NULL|NULL|VINISCHEFFER26@GM...|                NULL|                  NULL|\n",
      "+-----------+----------+-------+----------------+--------------------+---------------------+-----------------------+----------------------------+--------------------+----+----------------------+--------------+-------------------------+---------------+--------------------+------+--------------------+--------------------+--------+---+---------+----+---------+----+---------+-------+----+--------------------+--------------------+----------------------+\n",
      "only showing top 20 rows\n",
      "\n"
     ]
    }
   ],
   "execution_count": 119
  },
  {
   "metadata": {
    "ExecuteTime": {
     "end_time": "2024-11-21T02:33:59.904018Z",
     "start_time": "2024-11-21T02:33:59.797740Z"
    }
   },
   "cell_type": "code",
   "source": [
    "df_estab_tratado = (\n",
    "    df_estabelecimentos\n",
    "    .withColumn(\"cnpj\", F.concat(\"cnpj_basico\", \"cnpj_ordem\", \"cnpj_dv\"))\n",
    "    .withColumn(\"matriz_filial\", F.when(F.col(\"cd_matriz_filial\") == 1, \"Matriz\").otherwise(\"Filial\"))\n",
    "    .withColumn(\"situacao_cadastral\",\n",
    "                F.when(F.col(\"cd_situacao_cadastral\") == \"01\", \"Nula\")\n",
    "                .when(F.col(\"cd_situacao_cadastral\") == \"02\", \"Ativa\")\n",
    "                .when(F.col(\"cd_situacao_cadastral\") == \"03\", \"Suspensa\")\n",
    "                .when(F.col(\"cd_situacao_cadastral\") == \"04\", \"Inapta\")\n",
    "                .otherwise(\"Baixada\"))\n",
    "    .withColumn(\"data_situacao_cadastral\", F.to_date(\"data_situacao_cadastral\", 'yyyyMMdd'))\n",
    "    .withColumn(\"data_inicio_atividades\", F.to_date(\"data_inicio_atividades\", 'yyyyMMdd'))\n",
    "    .withColumn(\"data_situacao_especial\", F.to_date(\"data_situacao_especial\", 'yyyyMMdd'))\n",
    ")"
   ],
   "id": "894aeec05e73a495",
   "outputs": [],
   "execution_count": 11
  },
  {
   "metadata": {
    "ExecuteTime": {
     "end_time": "2024-11-20T21:10:59.795550Z",
     "start_time": "2024-11-20T21:10:59.736668Z"
    }
   },
   "cell_type": "code",
   "source": "df_estab_tratado.show(truncate=False)",
   "id": "dfd0cadf167a2edb",
   "outputs": [
    {
     "name": "stdout",
     "output_type": "stream",
     "text": [
      "+-----------+\n",
      "|cnpj_basico|\n",
      "+-----------+\n",
      "|45855495   |\n",
      "|45855505   |\n",
      "|45855516   |\n",
      "|45855528   |\n",
      "|45855539   |\n",
      "|45855550   |\n",
      "|45855560   |\n",
      "|45855570   |\n",
      "|43909127   |\n",
      "|45855595   |\n",
      "|45855604   |\n",
      "|45855615   |\n",
      "|45855628   |\n",
      "|45855639   |\n",
      "|45855649   |\n",
      "|45855661   |\n",
      "|45855672   |\n",
      "|45855684   |\n",
      "|45855694   |\n",
      "|45855706   |\n",
      "+-----------+\n",
      "only showing top 20 rows\n",
      "\n"
     ]
    }
   ],
   "execution_count": 138
  },
  {
   "metadata": {
    "ExecuteTime": {
     "end_time": "2024-11-21T02:34:04.926031Z",
     "start_time": "2024-11-21T02:34:04.921652Z"
    }
   },
   "cell_type": "code",
   "source": [
    "motivos_folder = f\"{DATA_OUTPUT_DIR}/Motivos/\"\n",
    "files = os.listdir(motivos_folder)\n",
    "\n",
    "files_motivos_to_transform = [f\"{motivos_folder}{f}\" for f in files]\n",
    "\n",
    "files_motivos_to_transform"
   ],
   "id": "482f973b2b52f5b3",
   "outputs": [
    {
     "data": {
      "text/plain": [
       "['../data/Motivos/F.K03200$Z.D41109.MOTICSV']"
      ]
     },
     "execution_count": 12,
     "metadata": {},
     "output_type": "execute_result"
    }
   ],
   "execution_count": 12
  },
  {
   "metadata": {
    "ExecuteTime": {
     "end_time": "2024-11-21T02:34:07.024780Z",
     "start_time": "2024-11-21T02:34:07.022711Z"
    }
   },
   "cell_type": "code",
   "source": [
    "csv_code_description_schema = StructType([\n",
    "    StructField(\"codigo\", StringType(), nullable=True),\n",
    "    StructField(\"descricao\", StringType(), nullable=True)\n",
    "])"
   ],
   "id": "44ba3566ebded3f6",
   "outputs": [],
   "execution_count": 13
  },
  {
   "metadata": {
    "ExecuteTime": {
     "end_time": "2024-11-21T02:34:09.836715Z",
     "start_time": "2024-11-21T02:34:09.820473Z"
    }
   },
   "cell_type": "code",
   "source": "df_motivos = spark.read.csv(files_motivos_to_transform, header=False, sep=\";\", schema=csv_code_description_schema)",
   "id": "634be5cde39601a",
   "outputs": [],
   "execution_count": 14
  },
  {
   "metadata": {
    "ExecuteTime": {
     "end_time": "2024-11-21T02:34:13.099581Z",
     "start_time": "2024-11-21T02:34:13.035218Z"
    }
   },
   "cell_type": "code",
   "source": "df_motivos.show(truncate=False)",
   "id": "7acceca3c31355dc",
   "outputs": [
    {
     "name": "stdout",
     "output_type": "stream",
     "text": [
      "+------+-------------------------------------------------+\n",
      "|codigo|descricao                                        |\n",
      "+------+-------------------------------------------------+\n",
      "|00    |SEM MOTIVO                                       |\n",
      "|01    |EXTINCAO POR ENCERRAMENTO LIQUIDACAO VOLUNTARIA  |\n",
      "|02    |INCORPORACAO                                     |\n",
      "|03    |FUSAO                                            |\n",
      "|04    |CISAO TOTAL                                      |\n",
      "|05    |ENCERRAMENTO DA FALENCIA                         |\n",
      "|06    |ENCERRAMENTO DA LIQUIDACAO                       |\n",
      "|07    |ELEVACAO A MATRIZ                                |\n",
      "|08    |TRANSPASSE                                       |\n",
      "|09    |NAO INICIO DE ATIVIDADE                          |\n",
      "|10    |EXTINCAO PELO ENCERRAMENTO DA LIQUIDACAO JUDICIAL|\n",
      "|11    |ANULACAO POR MULTICIPLIDADE                      |\n",
      "|12    |ANULACAO ONLINE DE OFICIO                        |\n",
      "|13    |OMISSA CONTUMAZ                                  |\n",
      "|14    |OMISSA NAO LOCALIZADA                            |\n",
      "|15    |INEXISTENCIA DE FATO                             |\n",
      "|16    |ANULACAO POR VICIOS                              |\n",
      "|17    |BAIXA INICIADA EM ANALISE                        |\n",
      "|18    |INTERRUPCAO TEMPORARIA DAS ATIVIDADES            |\n",
      "|21    |PEDIDO DE BAIXA INDEFERIDA                       |\n",
      "+------+-------------------------------------------------+\n",
      "only showing top 20 rows\n",
      "\n"
     ]
    }
   ],
   "execution_count": 15
  },
  {
   "metadata": {
    "ExecuteTime": {
     "end_time": "2024-11-21T02:34:16.774585Z",
     "start_time": "2024-11-21T02:34:16.745857Z"
    }
   },
   "cell_type": "code",
   "source": [
    "df_estab_motivos = (\n",
    "    df_estab_tratado\n",
    "    .join(df_motivos,\n",
    "          df_estab_tratado.cd_motivo_situacao_cadastral == df_motivos.codigo, \"left\")\n",
    "    .select(\n",
    "        df_estab_tratado[\"*\"],  # Todas as colunas do df_estab_tratado\n",
    "        df_motivos[\"descricao\"].alias(\"motivo_situacao_cadastral\")  # Apenas a coluna \"descricao\" do df_motivos\n",
    "    ))"
   ],
   "id": "e172cb8492b01f5a",
   "outputs": [],
   "execution_count": 16
  },
  {
   "metadata": {
    "ExecuteTime": {
     "end_time": "2024-11-20T21:05:10.130884Z",
     "start_time": "2024-11-20T21:05:10.024406Z"
    }
   },
   "cell_type": "code",
   "source": "df_estab_motivos.show()",
   "id": "e077c04938860337",
   "outputs": [
    {
     "name": "stdout",
     "output_type": "stream",
     "text": [
      "+-----------+----------+-------+----------------+--------------------+---------------------+-----------------------+----------------------------+--------------------+----+----------------------+--------------+-------------------------+---------------+--------------------+------+--------------------+--------------------+--------+---+---------+----+---------+----+---------+-------+----+--------------------+--------------------+----------------------+--------------+-------------+------------------+-------------------------+\n",
      "|cnpj_basico|cnpj_ordem|cnpj_dv|cd_matriz_filial|       nome_fantasia|cd_situacao_cadastral|data_situacao_cadastral|cd_motivo_situacao_cadastral|nome_cidade_exterior|pais|data_inicio_atividades|cd_cnae_fiscal|cd_cnae_fiscal_secundario|tipo_logradouro|          logradouro|numero|         complemento|              bairro|     cep| uf|municipio|ddd1|telefone1|ddd2|telefone2|ddd_fax| fax|  correio_eletronico|cd_situacao_especial|data_situacao_especial|          cnpj|matriz_filial|situacao_cadastral|motivo_situacao_cadastral|\n",
      "+-----------+----------+-------+----------------+--------------------+---------------------+-----------------------+----------------------------+--------------------+----+----------------------+--------------+-------------------------+---------------+--------------------+------+--------------------+--------------------+--------+---+---------+----+---------+----+---------+-------+----+--------------------+--------------------+----------------------+--------------+-------------+------------------+-------------------------+\n",
      "|   45855495|      0001|     79|               1|                NULL|                   04|               20240814|                          63|                NULL|NULL|              20220331|       4781400|          1531902,3299099|            RUA|      JOAO FLORENCIO|    24|                NULL|    DEZOITO DO FORTE|49072410| SE|     3105|  79| 91520842|NULL|     NULL|   NULL|NULL|NATALYFERREIRASAN...|                NULL|                  NULL|45855495000179|       Matriz|            Inapta|     OMISSAO DE DECLAR...|\n",
      "|   45855505|      0001|     76|               1|                NULL|                   04|               20240819|                          63|                NULL|NULL|              20220331|       4723700|                  4772500|            RUA|PROFESSOR JOSE LO...|   310|                NULL|            SAO JOAO|84270130| PR|     7915|  42| 91631508|NULL|     NULL|   NULL|NULL|RICHTERMARIOSERGI...|                NULL|                  NULL|45855505000176|       Matriz|            Inapta|     OMISSAO DE DECLAR...|\n",
      "|   45855516|      0001|     56|               1|       AMANDA VIEIRA|                   08|               20220607|                          01|                NULL|NULL|              20220331|       7319002|                  9602502|            RUA|       BENVINDA LEAO|    77|CASA CASA;CASA CA...|              BAIXAO|57305350| AL|     2705|  82| 96459005|NULL|     NULL|   NULL|NULL|AMANDAVIEIRABBG@H...|                NULL|                  NULL|45855516000156|       Matriz|           Baixada|     EXTINCAO POR ENCE...|\n",
      "|   45855528|      0001|     80|               1|                NULL|                   02|               20220331|                          00|                NULL|NULL|              20220331|       7500100|     4771704,4781400,4...|            RUA|    ARGENTAL DRUMOND|    12|                NULL|       SANTA CECILIA|30668340| MG|     4123|  31| 23915407|NULL|     NULL|   NULL|NULL|FABRIZIA@EMEDIATO...|                NULL|                  NULL|45855528000180|       Matriz|             Ativa|               SEM MOTIVO|\n",
      "|   45855539|      0001|     60|               1|                NULL|                   02|               20220331|                          00|                NULL|NULL|              20220331|       4721102|     4712100,1091102,5...|        RODOVIA|   PRESIDENTE VARGAS|  2347|                NULL|         SANTA CLARA|27340002| RJ|     5807|  24| 99843213|NULL|     NULL|   NULL|NULL|PADARIAMARCOLAN@G...|                NULL|                  NULL|45855539000160|       Matriz|             Ativa|               SEM MOTIVO|\n",
      "|   45855550|      0001|     20|               1|   BLUE LINE SERVICE|                   08|               20220331|                          01|                NULL|NULL|              20220331|       9521500|                     NULL|        AVENIDA|      PAULA FERREIRA|  2958|                NULL|            PIRITUBA|02916000| SP|     7107|  11| 22540198|NULL|     NULL|   NULL|NULL|DOUGLASK936@GMAIL...|                NULL|                  NULL|45855550000120|       Matriz|           Baixada|     EXTINCAO POR ENCE...|\n",
      "|   45855560|      0001|     66|               1|                NULL|                   02|               20220331|                          00|                NULL|NULL|              20220331|       4399103|     4321500,4322301,4...|            RUA|JOAO BATISTA PEDROSO|   237|                CASA|             COHAPAR|83280000| PR|     7587|  41| 99173062|NULL|     NULL|   NULL|NULL|ROGERIODEBONA@HOT...|                NULL|                  NULL|45855560000166|       Matriz|             Ativa|               SEM MOTIVO|\n",
      "|   45855570|      0001|     00|               1|                NULL|                   02|               20220331|                          00|                NULL|NULL|              20220331|       4520007|                  4530703|            RUA|ALEXANDRE BERGAMI...|   200|                NULL|  CORREGO DOS PEIXES|14312208| SP|     6217|  16| 91400585|NULL|     NULL|   NULL|NULL|LARISSA.ADRIELLY1...|                NULL|                  NULL|45855570000100|       Matriz|             Ativa|               SEM MOTIVO|\n",
      "|   43909127|      0001|     30|               1|                NULL|                   08|               20220713|                          01|                NULL|NULL|              20211018|       8599605|                  8219999|            RUA|JOSE ANTONIO DO P...|   417|                CASA|        JARDIM ZELIA|08575270| SP|     6563|  11| 46422995|NULL|     NULL|   NULL|NULL|THAMIRES_BARBOSA1...|                NULL|                  NULL|43909127000130|       Matriz|           Baixada|     EXTINCAO POR ENCE...|\n",
      "|   45855595|      0001|     03|               1|                NULL|                   02|               20220331|                          00|                NULL|NULL|              20220331|       9511800|                  8219999|            RUA|      ZILDA DE ABREU|   510|                CASA|        SANTA ISABEL|94500020| RS|     8963|  51| 34938985|NULL|     NULL|   NULL|NULL|  VINIBR45@GMAIL.COM|                NULL|                  NULL|45855595000103|       Matriz|             Ativa|               SEM MOTIVO|\n",
      "|   45855604|      0001|     58|               1|                NULL|                   02|               20220331|                          00|                NULL|NULL|              20220331|       4330404|     4322301,4399199,4...|            RUA|         CURITIBANOS|   510|                NULL|          MUNICIPIOS|88337375| SC|     8039|  12| 97682348|NULL|     NULL|   NULL|NULL|VANDOGERALDOPEREI...|                NULL|                  NULL|45855604000158|       Matriz|             Ativa|               SEM MOTIVO|\n",
      "|   45855615|      0001|     38|               1|                NULL|                   08|               20240110|                          01|                NULL|NULL|              20220331|       9512600|                  4757100|            RUA|PROFESSOR LAZARO ...|  NULL|                NULL|     VILA NOVA CANAA|74415420| GO|     9373|  62| 95260527|NULL|     NULL|   NULL|NULL|SABRINA_CATZINHA@...|                NULL|                  NULL|45855615000138|       Matriz|           Baixada|     EXTINCAO POR ENCE...|\n",
      "|   45855628|      0001|     07|               1|                NULL|                   08|               20240909|                          01|                NULL|NULL|              20220331|       4781400|                  7319002|            RUA|              PASSOS|    27|                NULL|       CARLOS PRATES|30710540| MG|     4123|  31| 96001737|NULL|     NULL|   NULL|NULL|MARIMAIA23@GMAIL.COM|                NULL|                  NULL|45855628000107|       Matriz|           Baixada|     EXTINCAO POR ENCE...|\n",
      "|   45855639|      0001|     97|               1|                NULL|                   04|               20240816|                          63|                NULL|NULL|              20220331|       5620104|     5620101,5611201,5...|            RUA|       LORENZO PENNA|   195|              CASA B|       JARDIM HELENA|08371160| SP|     7107|  11| 89187372|NULL|     NULL|   NULL|NULL|PATRICIATINONASCI...|                NULL|                  NULL|45855639000197|       Matriz|            Inapta|     OMISSAO DE DECLAR...|\n",
      "|   45855649|      0001|     22|               1|SIDNEY BARBOSA DE...|                   08|               20220802|                          01|                NULL|NULL|              20220331|       5320202|                     NULL|            RUA|        CASTRO ALVES|   323|                CASA|            PLANALTO|39404027| MG|     4865|  38| 84046082|NULL|     NULL|   NULL|NULL|MARKETINGNOELGAS@...|                NULL|                  NULL|45855649000122|       Matriz|           Baixada|     EXTINCAO POR ENCE...|\n",
      "|   45855661|      0001|     37|               1|                NULL|                   08|               20230912|                          01|                NULL|NULL|              20220331|       4755503|          4781400,7319002|            RUA|        MINAS GERAIS|  1860|                NULL|   JARDIM BELA VISTA|14750000| SP|     6891|  16| 88111216|NULL|     NULL|   NULL|NULL|JARDIMMIRANDAGILV...|                NULL|                  NULL|45855661000137|       Matriz|           Baixada|     EXTINCAO POR ENCE...|\n",
      "|   45855672|      0001|     17|               1|                NULL|                   02|               20220331|                          00|                NULL|NULL|              20220331|       1629301|     1623400,3240099,4...|        10A RUA|        JOSE BALCINI|   358|CASA ROSA;FUNDOS ...|            RAICHASK|88820000| SC|     8137|  48| 98834307|NULL|     NULL|   NULL|NULL|ALBERTINO@GOLDPAC...|                NULL|                  NULL|45855672000117|       Matriz|             Ativa|               SEM MOTIVO|\n",
      "|   45855684|      0001|     41|               1|                NULL|                   02|               20220331|                          00|                NULL|NULL|              20220331|       8219999|                     NULL|            RUA|    TERCILIO TEDESCO|   885|                NULL|          FORQUILHAS|88107481| SC|     8327|  48| 99085321|NULL|     NULL|   NULL|NULL|DEBORABENNECH@GMA...|                NULL|                  NULL|45855684000141|       Matriz|             Ativa|               SEM MOTIVO|\n",
      "|   45855694|      0001|     87|               1|NINI COSMETICOS E...|                   08|               20220404|                          01|                NULL|NULL|              20220331|       4781400|                  4755503|        10A RUA|             GUAPORE|  2090|                NULL|SAO MIGUEL DO GUA...|76932000| RO|     0045|  69| 84313304|NULL|     NULL|   NULL|NULL|ROSAGRAZIELE.ADV@...|                NULL|                  NULL|45855694000187|       Matriz|           Baixada|     EXTINCAO POR ENCE...|\n",
      "|   45855706|      0001|     73|               1|                NULL|                   04|               20240819|                          63|                NULL|NULL|              20220331|       4785799|                  4530704|            RUA|DR FRANCISCO BELTRAO|   748|                NULL|              CENTRO|85530000| PR|     7509|  46| 99255212|NULL|     NULL|   NULL|NULL|VINISCHEFFER26@GM...|                NULL|                  NULL|45855706000173|       Matriz|            Inapta|     OMISSAO DE DECLAR...|\n",
      "+-----------+----------+-------+----------------+--------------------+---------------------+-----------------------+----------------------------+--------------------+----+----------------------+--------------+-------------------------+---------------+--------------------+------+--------------------+--------------------+--------+---+---------+----+---------+----+---------+-------+----+--------------------+--------------------+----------------------+--------------+-------------+------------------+-------------------------+\n",
      "only showing top 20 rows\n",
      "\n"
     ]
    }
   ],
   "execution_count": 127
  },
  {
   "metadata": {
    "ExecuteTime": {
     "end_time": "2024-11-21T02:34:21.809775Z",
     "start_time": "2024-11-21T02:34:21.805132Z"
    }
   },
   "cell_type": "code",
   "source": [
    "cnaes_folder = f\"{DATA_OUTPUT_DIR}/Cnaes/\"\n",
    "files = os.listdir(cnaes_folder)\n",
    "\n",
    "files_cnaes_to_transform = [f\"{cnaes_folder}{f}\" for f in files]\n",
    "\n",
    "files_cnaes_to_transform"
   ],
   "id": "1129359ce724650c",
   "outputs": [
    {
     "data": {
      "text/plain": [
       "['../data/Cnaes/F.K03200$Z.D41109.CNAECSV']"
      ]
     },
     "execution_count": 17,
     "metadata": {},
     "output_type": "execute_result"
    }
   ],
   "execution_count": 17
  },
  {
   "metadata": {
    "ExecuteTime": {
     "end_time": "2024-11-21T02:34:23.983957Z",
     "start_time": "2024-11-21T02:34:23.966870Z"
    }
   },
   "cell_type": "code",
   "source": [
    "df_cnaes = spark.read.csv(files_cnaes_to_transform, header=False, sep=\";\", schema=csv_code_description_schema,\n",
    "                          encoding=\"ISO-8859-1\")"
   ],
   "id": "ba285960c8497fa7",
   "outputs": [],
   "execution_count": 18
  },
  {
   "metadata": {
    "ExecuteTime": {
     "end_time": "2024-11-21T02:34:25.713608Z",
     "start_time": "2024-11-21T02:34:25.665799Z"
    }
   },
   "cell_type": "code",
   "source": "df_cnaes.show(truncate=False)",
   "id": "a08e585ba68d6470",
   "outputs": [
    {
     "name": "stdout",
     "output_type": "stream",
     "text": [
      "+-------+-----------------------------------------------------------------------------------+\n",
      "|codigo |descricao                                                                          |\n",
      "+-------+-----------------------------------------------------------------------------------+\n",
      "|0111301|Cultivo de arroz                                                                   |\n",
      "|0111302|Cultivo de milho                                                                   |\n",
      "|0111303|Cultivo de trigo                                                                   |\n",
      "|0111399|Cultivo de outros cereais não especificados anteriormente                          |\n",
      "|0112101|Cultivo de algodão herbáceo                                                        |\n",
      "|0112102|Cultivo de juta                                                                    |\n",
      "|0112199|Cultivo de outras fibras de lavoura temporária não especificadas anteriormente     |\n",
      "|0113000|Cultivo de cana-de-açúcar                                                          |\n",
      "|0114800|Cultivo de fumo                                                                    |\n",
      "|0115600|Cultivo de soja                                                                    |\n",
      "|0116401|Cultivo de amendoim                                                                |\n",
      "|0116402|Cultivo de girassol                                                                |\n",
      "|0116403|Cultivo de mamona                                                                  |\n",
      "|0116499|Cultivo de outras oleaginosas de lavoura temporária não especificadas anteriormente|\n",
      "|0119901|Cultivo de abacaxi                                                                 |\n",
      "|0119902|Cultivo de alho                                                                    |\n",
      "|0119903|Cultivo de batata-inglesa                                                          |\n",
      "|0119904|Cultivo de cebola                                                                  |\n",
      "|0119905|Cultivo de feijão                                                                  |\n",
      "|0119906|Cultivo de mandioca                                                                |\n",
      "+-------+-----------------------------------------------------------------------------------+\n",
      "only showing top 20 rows\n",
      "\n"
     ]
    }
   ],
   "execution_count": 19
  },
  {
   "metadata": {
    "ExecuteTime": {
     "end_time": "2024-11-21T02:34:28.261765Z",
     "start_time": "2024-11-21T02:34:28.246234Z"
    }
   },
   "cell_type": "code",
   "source": [
    "df_estab_motivos_cnaes = (\n",
    "    df_estab_motivos\n",
    "    .join(df_cnaes,\n",
    "          df_estab_motivos.cd_cnae_fiscal == df_cnaes.codigo, \"left\")\n",
    "    .select(\n",
    "        df_estab_motivos[\"*\"],  # Todas as colunas do df_estab_tratado\n",
    "        df_cnaes[\"descricao\"].alias(\"cnae_fiscal\")  # Apenas a coluna \"descricao\" do df_motivos\n",
    "    ))"
   ],
   "id": "4d46a5cd6c28562",
   "outputs": [],
   "execution_count": 20
  },
  {
   "metadata": {
    "ExecuteTime": {
     "end_time": "2024-11-20T21:05:10.450444Z",
     "start_time": "2024-11-20T21:05:10.339640Z"
    }
   },
   "cell_type": "code",
   "source": "df_estab_motivos_cnaes.show()",
   "id": "226dd288a73388f6",
   "outputs": [
    {
     "name": "stdout",
     "output_type": "stream",
     "text": [
      "+-----------+----------+-------+----------------+--------------------+---------------------+-----------------------+----------------------------+--------------------+----+----------------------+--------------+-------------------------+---------------+--------------------+------+--------------------+--------------------+--------+---+---------+----+---------+----+---------+-------+----+--------------------+--------------------+----------------------+--------------+-------------+------------------+-------------------------+--------------------+\n",
      "|cnpj_basico|cnpj_ordem|cnpj_dv|cd_matriz_filial|       nome_fantasia|cd_situacao_cadastral|data_situacao_cadastral|cd_motivo_situacao_cadastral|nome_cidade_exterior|pais|data_inicio_atividades|cd_cnae_fiscal|cd_cnae_fiscal_secundario|tipo_logradouro|          logradouro|numero|         complemento|              bairro|     cep| uf|municipio|ddd1|telefone1|ddd2|telefone2|ddd_fax| fax|  correio_eletronico|cd_situacao_especial|data_situacao_especial|          cnpj|matriz_filial|situacao_cadastral|motivo_situacao_cadastral|         cnae_fiscal|\n",
      "+-----------+----------+-------+----------------+--------------------+---------------------+-----------------------+----------------------------+--------------------+----+----------------------+--------------+-------------------------+---------------+--------------------+------+--------------------+--------------------+--------+---+---------+----+---------+----+---------+-------+----+--------------------+--------------------+----------------------+--------------+-------------+------------------+-------------------------+--------------------+\n",
      "|   45855495|      0001|     79|               1|                NULL|                   04|               20240814|                          63|                NULL|NULL|              20220331|       4781400|          1531902,3299099|            RUA|      JOAO FLORENCIO|    24|                NULL|    DEZOITO DO FORTE|49072410| SE|     3105|  79| 91520842|NULL|     NULL|   NULL|NULL|NATALYFERREIRASAN...|                NULL|                  NULL|45855495000179|       Matriz|            Inapta|     OMISSAO DE DECLAR...|Comércio varejist...|\n",
      "|   45855505|      0001|     76|               1|                NULL|                   04|               20240819|                          63|                NULL|NULL|              20220331|       4723700|                  4772500|            RUA|PROFESSOR JOSE LO...|   310|                NULL|            SAO JOAO|84270130| PR|     7915|  42| 91631508|NULL|     NULL|   NULL|NULL|RICHTERMARIOSERGI...|                NULL|                  NULL|45855505000176|       Matriz|            Inapta|     OMISSAO DE DECLAR...|Comércio varejist...|\n",
      "|   45855516|      0001|     56|               1|       AMANDA VIEIRA|                   08|               20220607|                          01|                NULL|NULL|              20220331|       7319002|                  9602502|            RUA|       BENVINDA LEAO|    77|CASA CASA;CASA CA...|              BAIXAO|57305350| AL|     2705|  82| 96459005|NULL|     NULL|   NULL|NULL|AMANDAVIEIRABBG@H...|                NULL|                  NULL|45855516000156|       Matriz|           Baixada|     EXTINCAO POR ENCE...|  Promoção de vendas|\n",
      "|   45855528|      0001|     80|               1|                NULL|                   02|               20220331|                          00|                NULL|NULL|              20220331|       7500100|     4771704,4781400,4...|            RUA|    ARGENTAL DRUMOND|    12|                NULL|       SANTA CECILIA|30668340| MG|     4123|  31| 23915407|NULL|     NULL|   NULL|NULL|FABRIZIA@EMEDIATO...|                NULL|                  NULL|45855528000180|       Matriz|             Ativa|               SEM MOTIVO|Atividades veteri...|\n",
      "|   45855539|      0001|     60|               1|                NULL|                   02|               20220331|                          00|                NULL|NULL|              20220331|       4721102|     4712100,1091102,5...|        RODOVIA|   PRESIDENTE VARGAS|  2347|                NULL|         SANTA CLARA|27340002| RJ|     5807|  24| 99843213|NULL|     NULL|   NULL|NULL|PADARIAMARCOLAN@G...|                NULL|                  NULL|45855539000160|       Matriz|             Ativa|               SEM MOTIVO|Padaria e confeit...|\n",
      "|   45855550|      0001|     20|               1|   BLUE LINE SERVICE|                   08|               20220331|                          01|                NULL|NULL|              20220331|       9521500|                     NULL|        AVENIDA|      PAULA FERREIRA|  2958|                NULL|            PIRITUBA|02916000| SP|     7107|  11| 22540198|NULL|     NULL|   NULL|NULL|DOUGLASK936@GMAIL...|                NULL|                  NULL|45855550000120|       Matriz|           Baixada|     EXTINCAO POR ENCE...|Reparação e manut...|\n",
      "|   45855560|      0001|     66|               1|                NULL|                   02|               20220331|                          00|                NULL|NULL|              20220331|       4399103|     4321500,4322301,4...|            RUA|JOAO BATISTA PEDROSO|   237|                CASA|             COHAPAR|83280000| PR|     7587|  41| 99173062|NULL|     NULL|   NULL|NULL|ROGERIODEBONA@HOT...|                NULL|                  NULL|45855560000166|       Matriz|             Ativa|               SEM MOTIVO|  Obras de alvenaria|\n",
      "|   45855570|      0001|     00|               1|                NULL|                   02|               20220331|                          00|                NULL|NULL|              20220331|       4520007|                  4530703|            RUA|ALEXANDRE BERGAMI...|   200|                NULL|  CORREGO DOS PEIXES|14312208| SP|     6217|  16| 91400585|NULL|     NULL|   NULL|NULL|LARISSA.ADRIELLY1...|                NULL|                  NULL|45855570000100|       Matriz|             Ativa|               SEM MOTIVO|Serviços de insta...|\n",
      "|   43909127|      0001|     30|               1|                NULL|                   08|               20220713|                          01|                NULL|NULL|              20211018|       8599605|                  8219999|            RUA|JOSE ANTONIO DO P...|   417|                CASA|        JARDIM ZELIA|08575270| SP|     6563|  11| 46422995|NULL|     NULL|   NULL|NULL|THAMIRES_BARBOSA1...|                NULL|                  NULL|43909127000130|       Matriz|           Baixada|     EXTINCAO POR ENCE...|Cursos preparatór...|\n",
      "|   45855595|      0001|     03|               1|                NULL|                   02|               20220331|                          00|                NULL|NULL|              20220331|       9511800|                  8219999|            RUA|      ZILDA DE ABREU|   510|                CASA|        SANTA ISABEL|94500020| RS|     8963|  51| 34938985|NULL|     NULL|   NULL|NULL|  VINIBR45@GMAIL.COM|                NULL|                  NULL|45855595000103|       Matriz|             Ativa|               SEM MOTIVO|Reparação e manut...|\n",
      "|   45855604|      0001|     58|               1|                NULL|                   02|               20220331|                          00|                NULL|NULL|              20220331|       4330404|     4322301,4399199,4...|            RUA|         CURITIBANOS|   510|                NULL|          MUNICIPIOS|88337375| SC|     8039|  12| 97682348|NULL|     NULL|   NULL|NULL|VANDOGERALDOPEREI...|                NULL|                  NULL|45855604000158|       Matriz|             Ativa|               SEM MOTIVO|Serviços de pintu...|\n",
      "|   45855615|      0001|     38|               1|                NULL|                   08|               20240110|                          01|                NULL|NULL|              20220331|       9512600|                  4757100|            RUA|PROFESSOR LAZARO ...|  NULL|                NULL|     VILA NOVA CANAA|74415420| GO|     9373|  62| 95260527|NULL|     NULL|   NULL|NULL|SABRINA_CATZINHA@...|                NULL|                  NULL|45855615000138|       Matriz|           Baixada|     EXTINCAO POR ENCE...|Reparação e manut...|\n",
      "|   45855628|      0001|     07|               1|                NULL|                   08|               20240909|                          01|                NULL|NULL|              20220331|       4781400|                  7319002|            RUA|              PASSOS|    27|                NULL|       CARLOS PRATES|30710540| MG|     4123|  31| 96001737|NULL|     NULL|   NULL|NULL|MARIMAIA23@GMAIL.COM|                NULL|                  NULL|45855628000107|       Matriz|           Baixada|     EXTINCAO POR ENCE...|Comércio varejist...|\n",
      "|   45855639|      0001|     97|               1|                NULL|                   04|               20240816|                          63|                NULL|NULL|              20220331|       5620104|     5620101,5611201,5...|            RUA|       LORENZO PENNA|   195|              CASA B|       JARDIM HELENA|08371160| SP|     7107|  11| 89187372|NULL|     NULL|   NULL|NULL|PATRICIATINONASCI...|                NULL|                  NULL|45855639000197|       Matriz|            Inapta|     OMISSAO DE DECLAR...|Fornecimento de a...|\n",
      "|   45855649|      0001|     22|               1|SIDNEY BARBOSA DE...|                   08|               20220802|                          01|                NULL|NULL|              20220331|       5320202|                     NULL|            RUA|        CASTRO ALVES|   323|                CASA|            PLANALTO|39404027| MG|     4865|  38| 84046082|NULL|     NULL|   NULL|NULL|MARKETINGNOELGAS@...|                NULL|                  NULL|45855649000122|       Matriz|           Baixada|     EXTINCAO POR ENCE...|Serviços de entre...|\n",
      "|   45855661|      0001|     37|               1|                NULL|                   08|               20230912|                          01|                NULL|NULL|              20220331|       4755503|          4781400,7319002|            RUA|        MINAS GERAIS|  1860|                NULL|   JARDIM BELA VISTA|14750000| SP|     6891|  16| 88111216|NULL|     NULL|   NULL|NULL|JARDIMMIRANDAGILV...|                NULL|                  NULL|45855661000137|       Matriz|           Baixada|     EXTINCAO POR ENCE...|Comercio varejist...|\n",
      "|   45855672|      0001|     17|               1|                NULL|                   02|               20220331|                          00|                NULL|NULL|              20220331|       1629301|     1623400,3240099,4...|        10A RUA|        JOSE BALCINI|   358|CASA ROSA;FUNDOS ...|            RAICHASK|88820000| SC|     8137|  48| 98834307|NULL|     NULL|   NULL|NULL|ALBERTINO@GOLDPAC...|                NULL|                  NULL|45855672000117|       Matriz|             Ativa|               SEM MOTIVO|Fabricação de art...|\n",
      "|   45855684|      0001|     41|               1|                NULL|                   02|               20220331|                          00|                NULL|NULL|              20220331|       8219999|                     NULL|            RUA|    TERCILIO TEDESCO|   885|                NULL|          FORQUILHAS|88107481| SC|     8327|  48| 99085321|NULL|     NULL|   NULL|NULL|DEBORABENNECH@GMA...|                NULL|                  NULL|45855684000141|       Matriz|             Ativa|               SEM MOTIVO|Preparação de doc...|\n",
      "|   45855694|      0001|     87|               1|NINI COSMETICOS E...|                   08|               20220404|                          01|                NULL|NULL|              20220331|       4781400|                  4755503|        10A RUA|             GUAPORE|  2090|                NULL|SAO MIGUEL DO GUA...|76932000| RO|     0045|  69| 84313304|NULL|     NULL|   NULL|NULL|ROSAGRAZIELE.ADV@...|                NULL|                  NULL|45855694000187|       Matriz|           Baixada|     EXTINCAO POR ENCE...|Comércio varejist...|\n",
      "|   45855706|      0001|     73|               1|                NULL|                   04|               20240819|                          63|                NULL|NULL|              20220331|       4785799|                  4530704|            RUA|DR FRANCISCO BELTRAO|   748|                NULL|              CENTRO|85530000| PR|     7509|  46| 99255212|NULL|     NULL|   NULL|NULL|VINISCHEFFER26@GM...|                NULL|                  NULL|45855706000173|       Matriz|            Inapta|     OMISSAO DE DECLAR...|Comércio varejist...|\n",
      "+-----------+----------+-------+----------------+--------------------+---------------------+-----------------------+----------------------------+--------------------+----+----------------------+--------------+-------------------------+---------------+--------------------+------+--------------------+--------------------+--------+---+---------+----+---------+----+---------+-------+----+--------------------+--------------------+----------------------+--------------+-------------+------------------+-------------------------+--------------------+\n",
      "only showing top 20 rows\n",
      "\n"
     ]
    }
   ],
   "execution_count": 132
  },
  {
   "metadata": {
    "ExecuteTime": {
     "end_time": "2024-11-21T02:34:34.899262Z",
     "start_time": "2024-11-21T02:34:34.857210Z"
    }
   },
   "cell_type": "code",
   "source": [
    "# O Select apenas ajusta a ordem das colunas para que sejam persistidas \n",
    "# de uma maneira mais facil de visualizar, colocando as descricoes \n",
    "# ao lado dos codigos\n",
    "df_estabelecimentos_final = df_estab_motivos_cnaes.select('cnpj_basico',\n",
    "                                                          'cnpj_ordem',\n",
    "                                                          'cnpj_dv',\n",
    "                                                          'cnpj',\n",
    "                                                          'cd_matriz_filial',\n",
    "                                                          'matriz_filial',\n",
    "                                                          'nome_fantasia',\n",
    "                                                          'cd_situacao_cadastral',\n",
    "                                                          'situacao_cadastral',\n",
    "                                                          'data_situacao_cadastral',\n",
    "                                                          'cd_motivo_situacao_cadastral',\n",
    "                                                          'motivo_situacao_cadastral',\n",
    "                                                          'nome_cidade_exterior',\n",
    "                                                          'pais',\n",
    "                                                          'data_inicio_atividades',\n",
    "                                                          'cd_cnae_fiscal',\n",
    "                                                          'cnae_fiscal',\n",
    "                                                          'cd_cnae_fiscal_secundario',\n",
    "                                                          'tipo_logradouro',\n",
    "                                                          'logradouro',\n",
    "                                                          'numero',\n",
    "                                                          'complemento',\n",
    "                                                          'bairro',\n",
    "                                                          'cep',\n",
    "                                                          'uf',\n",
    "                                                          'municipio',\n",
    "                                                          'ddd1',\n",
    "                                                          'telefone1',\n",
    "                                                          'ddd2',\n",
    "                                                          'telefone2',\n",
    "                                                          'ddd_fax',\n",
    "                                                          'fax',\n",
    "                                                          'correio_eletronico',\n",
    "                                                          'cd_situacao_especial',\n",
    "                                                          'data_situacao_especial')"
   ],
   "id": "4381eef6808fc148",
   "outputs": [],
   "execution_count": 21
  },
  {
   "metadata": {
    "ExecuteTime": {
     "end_time": "2024-11-21T02:35:53.104782Z",
     "start_time": "2024-11-21T02:35:34.043498Z"
    }
   },
   "cell_type": "code",
   "source": "df_estabelecimentos_final.show(truncate=False)",
   "id": "742d4b92b7eaa64e",
   "outputs": [
    {
     "name": "stdout",
     "output_type": "stream",
     "text": [
      "+-----------+----------+-------+--------------+----------------+-------------+----------------------------------+---------------------+------------------+-----------------------+----------------------------+-------------------------+--------------------+----+----------------------+--------------+----------------------------------------------------------------------------+-------------------------+---------------+----------+------+-----------+------+--------+---+---------+----+---------+----+---------+-------+----+--------------------+--------------------+----------------------+\n",
      "|cnpj_basico|cnpj_ordem|cnpj_dv|cnpj          |cd_matriz_filial|matriz_filial|nome_fantasia                     |cd_situacao_cadastral|situacao_cadastral|data_situacao_cadastral|cd_motivo_situacao_cadastral|motivo_situacao_cadastral|nome_cidade_exterior|pais|data_inicio_atividades|cd_cnae_fiscal|cnae_fiscal                                                                 |cd_cnae_fiscal_secundario|tipo_logradouro|logradouro|numero|complemento|bairro|cep     |uf |municipio|ddd1|telefone1|ddd2|telefone2|ddd_fax|fax |correio_eletronico  |cd_situacao_especial|data_situacao_especial|\n",
      "+-----------+----------+-------+--------------+----------------+-------------+----------------------------------+---------------------+------------------+-----------------------+----------------------------+-------------------------+--------------------+----+----------------------+--------------+----------------------------------------------------------------------------+-------------------------+---------------+----------+------+-----------+------+--------+---+---------+----+---------+----+---------+-------+----+--------------------+--------------------+----------------------+\n",
      "|39326013   |0001      |90     |39326013000190|1               |Matriz       |ALLIM CONSULTORIA E SOLUCOES EM TI|02                   |Ativa             |2020-10-06             |00                          |SEM MOTIVO               |NULL                |NULL|2020-10-06            |6203100       |Desenvolvimento e licenciamento de programas de computador não-customizáveis|6204000                  |RODOVIA        |SC 290    |118   |APT   01   |CENTRO|88990000|SC |8271     |51  |81610177 |NULL|NULL     |NULL   |NULL|ALISSONPCL@GMAIL.COM|NULL                |NULL                  |\n",
      "+-----------+----------+-------+--------------+----------------+-------------+----------------------------------+---------------------+------------------+-----------------------+----------------------------+-------------------------+--------------------+----+----------------------+--------------+----------------------------------------------------------------------------+-------------------------+---------------+----------+------+-----------+------+--------+---+---------+----+---------+----+---------+-------+----+--------------------+--------------------+----------------------+\n",
      "\n"
     ]
    }
   ],
   "execution_count": 23
  }
 ],
 "metadata": {
  "kernelspec": {
   "display_name": "Python 3",
   "language": "python",
   "name": "python3"
  },
  "language_info": {
   "codemirror_mode": {
    "name": "ipython",
    "version": 2
   },
   "file_extension": ".py",
   "mimetype": "text/x-python",
   "name": "python",
   "nbconvert_exporter": "python",
   "pygments_lexer": "ipython2",
   "version": "2.7.6"
  }
 },
 "nbformat": 4,
 "nbformat_minor": 5
}
