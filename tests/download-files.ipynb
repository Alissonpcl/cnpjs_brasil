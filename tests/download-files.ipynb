{
 "cells": [
  {
   "metadata": {
    "ExecuteTime": {
     "end_time": "2024-11-16T17:52:24.540266Z",
     "start_time": "2024-11-16T17:52:24.536603Z"
    }
   },
   "cell_type": "code",
   "source": [
    "import os\n",
    "import re\n",
    "import zipfile\n",
    "from datetime import datetime\n",
    "\n",
    "import requests\n",
    "from bs4 import BeautifulSoup"
   ],
   "id": "c5bf8d998adf006b",
   "outputs": [],
   "execution_count": 59
  },
  {
   "cell_type": "code",
   "id": "initial_id",
   "metadata": {
    "collapsed": true,
    "ExecuteTime": {
     "end_time": "2024-11-16T17:07:02.474821Z",
     "start_time": "2024-11-16T17:07:02.278763Z"
    }
   },
   "source": [
    "# URL da página de downloads\n",
    "url = \"https://arquivos.receitafederal.gov.br/dados/cnpj/dados_abertos_cnpj/\"\n",
    "\n",
    "\n",
    "def get_latest_url():\n",
    "    response = requests.get(url)\n",
    "    soup = BeautifulSoup(response.content, 'html.parser')\n",
    "\n",
    "    # Regex para extrair ano e mês do texto do link\n",
    "    date_pattern = re.compile(r\"(\\d{4})-(\\d{2})\")\n",
    "\n",
    "    current_latest_date = None\n",
    "    latest_url = None\n",
    "\n",
    "    # Itera sobre todos os links encontrados na página\n",
    "    for link in soup.find_all('a', href=True):\n",
    "        href = link['href']\n",
    "\n",
    "        match = date_pattern.search(href)\n",
    "        if match:\n",
    "            year, month = match.groups()\n",
    "            date = datetime(int(year), int(month), 1)\n",
    "\n",
    "            # Atualiza para o link mais recente\n",
    "            if current_latest_date is None or date > current_latest_date:\n",
    "                current_latest_date = date\n",
    "                latest_url = url + href\n",
    "\n",
    "    return latest_url\n",
    "\n",
    "\n",
    "if __name__ == \"__main__\":\n",
    "    latest_data_url = get_latest_url()\n",
    "    if latest_data_url:\n",
    "        print(\"URL mais atual:\", latest_data_url)\n",
    "    else:\n",
    "        print(\"Nenhum dado correspondente encontrado.\")"
   ],
   "outputs": [
    {
     "name": "stdout",
     "output_type": "stream",
     "text": [
      "URL mais atual: https://arquivos.receitafederal.gov.br/dados/cnpj/dados_abertos_cnpj/2024-11/\n"
     ]
    }
   ],
   "execution_count": 14
  },
  {
   "metadata": {
    "ExecuteTime": {
     "end_time": "2024-11-16T17:28:31.141311Z",
     "start_time": "2024-11-16T17:28:30.918243Z"
    }
   },
   "cell_type": "code",
   "source": [
    "dados_baixar = [\"cnaes\", \"motivos\"]\n",
    "\n",
    "response = requests.get(latest_data_url)\n",
    "soup = BeautifulSoup(response.content, 'html.parser')\n",
    "\n",
    "links = [link['href'] for link in soup.find_all('a', href=True)]\n",
    "\n",
    "# Filtrar links\n",
    "filtered_links = [f\"{latest_data_url}{link}\" for link in links if link.endswith('.zip') and\n",
    "                  any(entity in link.lower() for entity in dados_baixar)]\n",
    "\n",
    "# Exibir os links filtrados\n",
    "print(\"Links filtrados:\", filtered_links)"
   ],
   "id": "c08a8a577d3053e2",
   "outputs": [
    {
     "name": "stdout",
     "output_type": "stream",
     "text": [
      "Links filtrados: ['https://arquivos.receitafederal.gov.br/dados/cnpj/dados_abertos_cnpj/2024-11/Cnaes.zip', 'https://arquivos.receitafederal.gov.br/dados/cnpj/dados_abertos_cnpj/2024-11/Motivos.zip']\n"
     ]
    }
   ],
   "execution_count": 31
  },
  {
   "metadata": {
    "ExecuteTime": {
     "end_time": "2024-11-16T18:12:58.033385Z",
     "start_time": "2024-11-16T18:12:57.643197Z"
    }
   },
   "cell_type": "code",
   "source": [
    "# Função para exibir o progresso do download\n",
    "def download_with_progress(file_url, file_path):\n",
    "    with requests.get(file_url, stream=True) as file_response:\n",
    "        file_response.raise_for_status()\n",
    "        total_size = int(file_response.headers.get('content-length', 0))  # Tamanho total do arquivo\n",
    "        chunk_size = 8192\n",
    "        downloaded_size = 0\n",
    "\n",
    "        # Abre o arquivo local para gravar o conteúdo baixado\n",
    "        with open(file_path, 'wb') as file:\n",
    "            # Baixa em blocos de chunk_size e escreve no arquivo\n",
    "            for chunk in file_response.iter_content(chunk_size=chunk_size):\n",
    "                if chunk:  # Filtro para ignorar chunks vazios\n",
    "                    file.write(chunk)\n",
    "                    downloaded_size += len(chunk)\n",
    "\n",
    "                    # Calcula o percentual baixado\n",
    "                    percent_downloaded = (downloaded_size / total_size) * 100\n",
    "                    print(f\"\\rBaixando {file_path}: {percent_downloaded:.2f}% completo\", end='')\n",
    "\n",
    "    print(f\"\\n{file_path} baixado com sucesso!\")\n",
    "\n",
    "\n",
    "# Diretório onde os arquivos serão salvos\n",
    "output_dir = \"../dados\"\n",
    "os.makedirs(output_dir, exist_ok=True)\n",
    "\n",
    "for link in filtered_links:\n",
    "    file_name = link.split(\"/\")[-1]\n",
    "    file_path = os.path.join(output_dir, file_name)\n",
    "\n",
    "    print(f\"Preparando para baixar {file_name}...\")\n",
    "    download_with_progress(link, file_path)\n",
    "\n",
    "print(\"Todos os arquivos foram baixados!\")\n"
   ],
   "id": "be6ae1baa02bd788",
   "outputs": [
    {
     "name": "stdout",
     "output_type": "stream",
     "text": [
      "Preparando para baixar Cnaes.zip...\n",
      "Baixando ../dados/Cnaes.zip: 100.00% completo\n",
      "../dados/Cnaes.zip baixado com sucesso!\n",
      "Preparando para baixar Motivos.zip...\n",
      "Baixando ../dados/Motivos.zip: 100.00% completo\n",
      "../dados/Motivos.zip baixado com sucesso!\n",
      "Todos os arquivos foram baixados!\n"
     ]
    }
   ],
   "execution_count": 76
  },
  {
   "metadata": {
    "ExecuteTime": {
     "end_time": "2024-11-16T18:02:43.058856Z",
     "start_time": "2024-11-16T18:02:43.050292Z"
    }
   },
   "cell_type": "code",
   "source": [
    "# Função para descompactar os arquivos .zip\n",
    "def extract_zip_files(zip_dir):\n",
    "    # Percorre todos os arquivos no diretório\n",
    "    for file_name in os.listdir(zip_dir):\n",
    "        if file_name.endswith(\".zip\"):\n",
    "            # Caminho completo do arquivo .zip\n",
    "            zip_file_path = os.path.join(zip_dir, file_name)\n",
    "\n",
    "            # Usa regex para remover números e extensão do nome do arquivo\n",
    "            base_name = re.sub(r'\\d*\\.zip$', '', file_name)\n",
    "            output_folder = os.path.join(zip_dir, base_name)\n",
    "\n",
    "            # Cria o diretório de saída se ele não existir\n",
    "            os.makedirs(output_folder, exist_ok=True)\n",
    "\n",
    "            # Descompacta o arquivo .zip para o diretório de saída\n",
    "            with zipfile.ZipFile(zip_file_path, 'r') as zip_ref:\n",
    "                print(f\"Descompactando {file_name} para {output_folder}...\")\n",
    "                zip_ref.extractall(output_folder)\n",
    "                print(f\"{file_name} descompactado com sucesso!\")\n",
    "\n",
    "\n",
    "# Diretório onde os arquivos .zip estão localizados\n",
    "zip_dir = \"../dados\"\n",
    "\n",
    "# Chama a função para descompactar os arquivos .zip\n",
    "extract_zip_files(zip_dir)\n",
    "\n",
    "print(\"Todos os arquivos .zip foram descompactados!\")\n"
   ],
   "id": "7f470cd9bfedd49b",
   "outputs": [
    {
     "name": "stdout",
     "output_type": "stream",
     "text": [
      "Descompactando Cnaes.zip para ../dados/Cnaes...\n",
      "Cnaes.zip descompactado com sucesso!\n",
      "Descompactando Motivos.zip para ../dados/Motivos...\n",
      "Motivos.zip descompactado com sucesso!\n",
      "Todos os arquivos .zip foram descompactados!\n"
     ]
    }
   ],
   "execution_count": 68
  }
 ],
 "metadata": {
  "kernelspec": {
   "display_name": "Python 3",
   "language": "python",
   "name": "python3"
  },
  "language_info": {
   "codemirror_mode": {
    "name": "ipython",
    "version": 2
   },
   "file_extension": ".py",
   "mimetype": "text/x-python",
   "name": "python",
   "nbconvert_exporter": "python",
   "pygments_lexer": "ipython2",
   "version": "2.7.6"
  }
 },
 "nbformat": 4,
 "nbformat_minor": 5
}
